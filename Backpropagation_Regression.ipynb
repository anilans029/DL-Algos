{
 "cells": [
  {
   "cell_type": "code",
   "execution_count": 23,
   "id": "bc67c41b",
   "metadata": {},
   "outputs": [],
   "source": [
    "import numpy as np\n",
    "import pandas as pd\n",
    "import matplotlib.pyplot as plt"
   ]
  },
  {
   "cell_type": "code",
   "execution_count": 24,
   "id": "bb48c346",
   "metadata": {},
   "outputs": [
    {
     "data": {
      "text/html": [
       "<div>\n",
       "<style scoped>\n",
       "    .dataframe tbody tr th:only-of-type {\n",
       "        vertical-align: middle;\n",
       "    }\n",
       "\n",
       "    .dataframe tbody tr th {\n",
       "        vertical-align: top;\n",
       "    }\n",
       "\n",
       "    .dataframe thead th {\n",
       "        text-align: right;\n",
       "    }\n",
       "</style>\n",
       "<table border=\"1\" class=\"dataframe\">\n",
       "  <thead>\n",
       "    <tr style=\"text-align: right;\">\n",
       "      <th></th>\n",
       "      <th>cgpa</th>\n",
       "      <th>profile_score</th>\n",
       "      <th>lpa</th>\n",
       "    </tr>\n",
       "  </thead>\n",
       "  <tbody>\n",
       "    <tr>\n",
       "      <th>0</th>\n",
       "      <td>8</td>\n",
       "      <td>8</td>\n",
       "      <td>4</td>\n",
       "    </tr>\n",
       "    <tr>\n",
       "      <th>1</th>\n",
       "      <td>7</td>\n",
       "      <td>9</td>\n",
       "      <td>5</td>\n",
       "    </tr>\n",
       "    <tr>\n",
       "      <th>2</th>\n",
       "      <td>6</td>\n",
       "      <td>10</td>\n",
       "      <td>6</td>\n",
       "    </tr>\n",
       "    <tr>\n",
       "      <th>3</th>\n",
       "      <td>5</td>\n",
       "      <td>12</td>\n",
       "      <td>7</td>\n",
       "    </tr>\n",
       "  </tbody>\n",
       "</table>\n",
       "</div>"
      ],
      "text/plain": [
       "   cgpa  profile_score  lpa\n",
       "0     8              8    4\n",
       "1     7              9    5\n",
       "2     6             10    6\n",
       "3     5             12    7"
      ]
     },
     "execution_count": 24,
     "metadata": {},
     "output_type": "execute_result"
    }
   ],
   "source": [
    "df = pd.DataFrame([[8,8,4],[7,9,5],[6,10,6],[5,12,7]],columns = [\"cgpa\",\"profile_score\",\"lpa\"])\n",
    "df"
   ]
  },
  {
   "cell_type": "code",
   "execution_count": 25,
   "id": "fa725618",
   "metadata": {},
   "outputs": [],
   "source": [
    "\"\"\"\n",
    "this function takes input as neural n/w dimensions and \n",
    "initialize the weights and biases with 0.1 and 0 values \n",
    "\"\"\"\n",
    "\n",
    "\n",
    "\n",
    "def initialize_parameters(layers_dimensions):\n",
    "    parameters = {}\n",
    "    total_layers = len(layers_dimensions)\n",
    "    \n",
    "    for l in range(1,total_layers):\n",
    "        parameters[\"w\"+str(l)] = np.ones((layers_dimensions[l-1],layers_dimensions[l]))*0.1\n",
    "        parameters[\"b\"+str(l)] = np.zeros((layers_dimensions[l],1))\n",
    "        \n",
    "    return parameters\n"
   ]
  },
  {
   "cell_type": "code",
   "execution_count": 26,
   "id": "f7827ffe",
   "metadata": {},
   "outputs": [
    {
     "data": {
      "text/plain": [
       "{'w1': array([[0.1, 0.1],\n",
       "        [0.1, 0.1]]),\n",
       " 'b1': array([[0.],\n",
       "        [0.]]),\n",
       " 'w2': array([[0.1],\n",
       "        [0.1]]),\n",
       " 'b2': array([[0.]])}"
      ]
     },
     "execution_count": 26,
     "metadata": {},
     "output_type": "execute_result"
    }
   ],
   "source": [
    "initialize_parameters([2,2,1])"
   ]
  },
  {
   "cell_type": "code",
   "execution_count": 78,
   "id": "facb3fc0",
   "metadata": {},
   "outputs": [],
   "source": [
    "def z_outcome(A_prev,w,b):\n",
    "    z =np.dot(w.T,A_prev) + b\n",
    "    return z"
   ]
  },
  {
   "cell_type": "code",
   "execution_count": 79,
   "id": "006193e4",
   "metadata": {},
   "outputs": [],
   "source": [
    "# forward propagation\n",
    "\n",
    "def l_layer_forward(x, parameters):\n",
    "    \n",
    "    A = x \n",
    "    l = len(parameters)//2\n",
    "    \n",
    "    for l in range(1,l+1):\n",
    "        A_prev = A\n",
    "        wl = parameters[\"w\"+str(l)]\n",
    "        bl = parameters[\"b\"+str(l)]\n",
    "        \n",
    "        print(\"A\"+str(l-1)+ \" : \", A_prev)\n",
    "        print(\"w\"+str(l)+\" : \", wl)\n",
    "        print(\"b\"+str(l)+\" : \", bl)\n",
    "        print(\"==\"*20)\n",
    "        \n",
    "        A = z_outcome(A_prev,wl,bl)\n",
    "        \n",
    "        print(\"A\"+str(l)+\" : \",A)\n",
    "        print(\"**\"*20)\n",
    "    return A,A_prev"
   ]
  },
  {
   "cell_type": "code",
   "execution_count": 80,
   "id": "a3868e9f",
   "metadata": {},
   "outputs": [],
   "source": [
    "x = df[[\"cgpa\",\"profile_score\"]].values[0].reshape(2,1)\n",
    "y = df[\"lpa\"].values[0]\n",
    "parameters = initialize_parameters([2,2,1])\n"
   ]
  },
  {
   "cell_type": "code",
   "execution_count": 81,
   "id": "adce6b82",
   "metadata": {},
   "outputs": [
    {
     "name": "stdout",
     "output_type": "stream",
     "text": [
      "(2, 1)\n"
     ]
    }
   ],
   "source": [
    "print(x.shape)"
   ]
  },
  {
   "cell_type": "code",
   "execution_count": 82,
   "id": "a057eb2b",
   "metadata": {},
   "outputs": [
    {
     "name": "stdout",
     "output_type": "stream",
     "text": [
      "A0 :  [[8]\n",
      " [8]]\n",
      "w1 :  [[0.1 0.1]\n",
      " [0.1 0.1]]\n",
      "b1 :  [[0.]\n",
      " [0.]]\n",
      "========================================\n",
      "A1 :  [[1.6]\n",
      " [1.6]]\n",
      "****************************************\n",
      "A1 :  [[1.6]\n",
      " [1.6]]\n",
      "w2 :  [[0.1]\n",
      " [0.1]]\n",
      "b2 :  [[0.]]\n",
      "========================================\n",
      "A2 :  [[0.32]]\n",
      "****************************************\n"
     ]
    }
   ],
   "source": [
    "a,a_prev = l_layer_forward(x,parameters)"
   ]
  },
  {
   "cell_type": "code",
   "execution_count": 72,
   "id": "7b606d1a",
   "metadata": {},
   "outputs": [
    {
     "name": "stdout",
     "output_type": "stream",
     "text": [
      "(2, 1)\n",
      "(2, 1)\n"
     ]
    },
    {
     "data": {
      "text/plain": [
       "array([[0.8, 0.8],\n",
       "       [0.8, 0.8]])"
      ]
     },
     "execution_count": 72,
     "metadata": {},
     "output_type": "execute_result"
    }
   ],
   "source": [
    "m = np.array([[0.1, 0.1],\n",
    "     [0.1 ,0.1]])\n",
    "v =np.array([[8],\n",
    "    [8]])\n",
    "print(v.shape)\n",
    "print((np.dot(m,v)).shape)\n",
    "m*v"
   ]
  },
  {
   "cell_type": "code",
   "execution_count": null,
   "id": "4555346b",
   "metadata": {},
   "outputs": [],
   "source": []
  },
  {
   "cell_type": "code",
   "execution_count": null,
   "id": "959cd708",
   "metadata": {},
   "outputs": [],
   "source": [
    "`"
   ]
  }
 ],
 "metadata": {
  "kernelspec": {
   "display_name": "Python 3 (ipykernel)",
   "language": "python",
   "name": "python3"
  },
  "language_info": {
   "codemirror_mode": {
    "name": "ipython",
    "version": 3
   },
   "file_extension": ".py",
   "mimetype": "text/x-python",
   "name": "python",
   "nbconvert_exporter": "python",
   "pygments_lexer": "ipython3",
   "version": "3.9.7"
  }
 },
 "nbformat": 4,
 "nbformat_minor": 5
}
